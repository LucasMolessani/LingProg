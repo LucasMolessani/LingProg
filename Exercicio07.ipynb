{
 "cells": [
  {
   "cell_type": "markdown",
   "metadata": {},
   "source": [
    "# Lucas Vasconcelos Molessani - 201508392\n",
    "# Lambdas"
   ]
  },
  {
   "cell_type": "markdown",
   "metadata": {},
   "source": [
    "#### 1- Defina a função soma_nat que recebe como argumento um número natural n e devolve a soma de todos os números naturais até n."
   ]
  },
  {
   "cell_type": "code",
   "execution_count": 13,
   "metadata": {},
   "outputs": [],
   "source": [
    "soma_nat_lambda = lambda end: ((end)/2) * (end+1)"
   ]
  },
  {
   "cell_type": "markdown",
   "metadata": {},
   "source": [
    "#### 2- Defina a função prod_lista que recebe como argumento uma lista de inteiros e devolve o produto dos seus elementos."
   ]
  },
  {
   "cell_type": "code",
   "execution_count": 14,
   "metadata": {
    "scrolled": true
   },
   "outputs": [],
   "source": [
    "import operator\n",
    "from functools import reduce\n",
    "prod_lista_lambda = lambda x: reduce(operator.mul, x, 1)"
   ]
  },
  {
   "cell_type": "markdown",
   "metadata": {},
   "source": [
    "#### 3- Defina a função contem_parQ que recebe como argumento uma lista de números inteiros w e devolve True se w contém um número par e False em caso contrário."
   ]
  },
  {
   "cell_type": "code",
   "execution_count": 15,
   "metadata": {},
   "outputs": [],
   "source": [
    "parQ_lambda = lambda lista: True if (len(lista) % 2 == 0) else False"
   ]
  },
  {
   "cell_type": "markdown",
   "metadata": {},
   "source": [
    "#### 4- Defina a função todos_imparesQ que recebe como argumento uma lista de números inteiros w e devolve True se w contém apenas números ímpares e False em caso contrário."
   ]
  },
  {
   "cell_type": "code",
   "execution_count": 16,
   "metadata": {},
   "outputs": [],
   "source": [
    "todos_imparesQ_lambda = lambda lista: True if len([x for x in lista if x % 2 != 0])==len(lista) else False"
   ]
  },
  {
   "cell_type": "markdown",
   "metadata": {},
   "source": [
    "#### 5- Defina a função inverteLista que recebe como argumento uma lista w e devolve a mesma lista mas invertida."
   ]
  },
  {
   "cell_type": "code",
   "execution_count": 17,
   "metadata": {},
   "outputs": [],
   "source": [
    "inverteLista_lambda = lambda w: w[::-1]"
   ]
  },
  {
   "cell_type": "markdown",
   "metadata": {},
   "source": [
    "# Testes das Funções em Lambda"
   ]
  },
  {
   "cell_type": "code",
   "execution_count": 18,
   "metadata": {},
   "outputs": [
    {
     "name": "stdout",
     "output_type": "stream",
     "text": [
      "1º Exercício 28.0\n",
      "2º Exercício 120\n",
      "3º Exercício False\n",
      "3º Exercício True\n",
      "3º Exercício False\n",
      "4º Exercício True\n",
      "4º Exercício True\n",
      "4º Exercício False\n",
      "5º Exercício [3, 2, 1]\n"
     ]
    }
   ],
   "source": [
    "#1º exercício\n",
    "print (\"1º Exercício\" , soma_nat_lambda(7))\n",
    "#2º exercício\n",
    "print (\"2º Exercício\" , prod_lista_lambda([1,2,3,4,5])) \n",
    "#3º exercício\n",
    "print ('3º Exercício' , parQ_lambda([4,3,2,1,2,3,4]))\n",
    "print ('3º Exercício' , parQ_lambda([1,3,5,7]))\n",
    "print ('3º Exercício' , parQ_lambda([1,3,5,7,9]))\n",
    "#4º exercício\n",
    "print (\"4º Exercício\" , todos_imparesQ_lambda([1,3,5,7]))\n",
    "print ('4º Exercício' , todos_imparesQ_lambda([]))\n",
    "print ('4º Exercício' , todos_imparesQ_lambda([2,3,4,5]))\n",
    "#5º exercício\n",
    "print (\"5º Exercício\" , inverteLista_lambda([1,2,3]))"
   ]
  },
  {
   "cell_type": "code",
   "execution_count": null,
   "metadata": {},
   "outputs": [],
   "source": []
  },
  {
   "cell_type": "code",
   "execution_count": null,
   "metadata": {},
   "outputs": [],
   "source": []
  }
 ],
 "metadata": {
  "kernelspec": {
   "display_name": "Python 3",
   "language": "python",
   "name": "python3"
  },
  "language_info": {
   "codemirror_mode": {
    "name": "ipython",
    "version": 3
   },
   "file_extension": ".py",
   "mimetype": "text/x-python",
   "name": "python",
   "nbconvert_exporter": "python",
   "pygments_lexer": "ipython3",
   "version": "3.6.4"
  }
 },
 "nbformat": 4,
 "nbformat_minor": 2
}
