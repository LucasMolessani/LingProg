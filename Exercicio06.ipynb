{
 "cells": [
  {
   "cell_type": "markdown",
   "metadata": {},
   "source": [
    "# Lucas Vasconcelos Molessani - 201508392\n",
    "# Funções"
   ]
  },
  {
   "cell_type": "markdown",
   "metadata": {},
   "source": [
    "#### 1- Defina a função soma_nat que recebe como argumento um número natural  n e devolve a soma de todos os números naturais até  n."
   ]
  },
  {
   "cell_type": "code",
   "execution_count": 1,
   "metadata": {},
   "outputs": [],
   "source": [
    "def soma_nat(n):\n",
    "    soma = 0\n",
    "    while(n > 0):\n",
    "        soma = soma + n\n",
    "        n = n - int(1)\n",
    "    return soma"
   ]
  },
  {
   "cell_type": "markdown",
   "metadata": {},
   "source": [
    "#### 2- Defina a função prod_lista que recebe como argumento uma lista de inteiros e devolve o produto dos seus elementos."
   ]
  },
  {
   "cell_type": "code",
   "execution_count": 2,
   "metadata": {
    "scrolled": true
   },
   "outputs": [],
   "source": [
    "def prod_lista(lista):\n",
    "    soma = 1\n",
    "    for i in lista:\n",
    "        soma = soma * i\n",
    "    return soma"
   ]
  },
  {
   "cell_type": "markdown",
   "metadata": {},
   "source": [
    "#### 3- Defina a função contem_parQ que recebe como argumento uma lista de números inteiros w e devolve True se w contém um número par e False em caso contrário."
   ]
  },
  {
   "cell_type": "code",
   "execution_count": 9,
   "metadata": {},
   "outputs": [],
   "source": [
    "def contem_parQ(lista):\n",
    "    if len(lista)%2==0:\n",
    "        return True\n",
    "    else:\n",
    "        return False"
   ]
  },
  {
   "cell_type": "markdown",
   "metadata": {},
   "source": [
    "#### 4- Defina a função todos_imparesQ que recebe como argumento uma lista de números inteiros w e devolve True se  w contém apenas números ímpares e False em caso contrário."
   ]
  },
  {
   "cell_type": "code",
   "execution_count": 10,
   "metadata": {},
   "outputs": [],
   "source": [
    "def todos_imparesQ(lista):\n",
    "    retorno = False\n",
    "    for i in lista:\n",
    "        \n",
    "        if i%2 > 0:\n",
    "            retorno = True\n",
    "        else:\n",
    "            retorno = False\n",
    "            break\n",
    "    return retorno"
   ]
  },
  {
   "cell_type": "markdown",
   "metadata": {},
   "source": [
    "#### 5- Defina a função inverteLista que recebe como argumento uma lista w e devolve a mesma lista mas invertida."
   ]
  },
  {
   "cell_type": "code",
   "execution_count": 11,
   "metadata": {},
   "outputs": [],
   "source": [
    "def inverteLista(w):\n",
    "    w = w[::-1]\n",
    "    return w"
   ]
  },
  {
   "cell_type": "markdown",
   "metadata": {},
   "source": [
    "# Testes das funções"
   ]
  },
  {
   "cell_type": "code",
   "execution_count": 12,
   "metadata": {},
   "outputs": [
    {
     "name": "stdout",
     "output_type": "stream",
     "text": [
      "1º Exercício 28\n",
      "2º Exercício 120\n",
      "3º Exercício False\n",
      "3º Exercício True\n",
      "3º Exercício False\n",
      "4º Exercício True\n",
      "4º Exercício False\n",
      "4º Exercício False\n",
      "5º Exercício [3, 2, 1]\n"
     ]
    }
   ],
   "source": [
    "#1º exercício\n",
    "print (\"1º Exercício\" , soma_nat(7))\n",
    "#2º exercício\n",
    "print ('2º Exercício' , prod_lista([1,2,3,4,5]))\n",
    "#3º exercício\n",
    "print ('3º Exercício' , contem_parQ([4,3,2,1,2,3,4]))\n",
    "print ('3º Exercício' , contem_parQ([1,3,5,7]))\n",
    "print ('3º Exercício' , contem_parQ([1,3,5,7,9]))\n",
    "#4º exercício\n",
    "print ('4º Exercício' , todos_imparesQ([1,3,5,7]))\n",
    "print ('4º Exercício' , todos_imparesQ([]))\n",
    "print ('4º Exercício' , todos_imparesQ([2,3,4,5]))\n",
    "#5º exercício\n",
    "print ('5º Exercício' , inverteLista([1,2,3]))"
   ]
  },
  {
   "cell_type": "code",
   "execution_count": null,
   "metadata": {
    "collapsed": true
   },
   "outputs": [],
   "source": []
  }
 ],
 "metadata": {
  "kernelspec": {
   "display_name": "Python 3",
   "language": "python",
   "name": "python3"
  },
  "language_info": {
   "codemirror_mode": {
    "name": "ipython",
    "version": 3
   },
   "file_extension": ".py",
   "mimetype": "text/x-python",
   "name": "python",
   "nbconvert_exporter": "python",
   "pygments_lexer": "ipython3",
   "version": "3.6.4"
  }
 },
 "nbformat": 4,
 "nbformat_minor": 2
}
