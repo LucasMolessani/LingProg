{
 "cells": [
  {
   "cell_type": "markdown",
   "metadata": {},
   "source": [
    "# Lucas Vasconcelos Molessani - 201508392\n",
    "# Maybe Monad"
   ]
  },
  {
   "cell_type": "markdown",
   "metadata": {},
   "source": [
    "#### 1- Defina a função soma_nat que recebe como argumento um número natural n e devolve a soma de todos os números naturais até n."
   ]
  },
  {
   "cell_type": "code",
   "execution_count": 6,
   "metadata": {},
   "outputs": [],
   "source": [
    "def soma_nat_maybe(end):\n",
    "    return ((end)/2) * (end+1)\n",
    "\n",
    "class Just:\n",
    "    \n",
    "    def __init__(self,end):\n",
    "        self.end = end\n",
    "    \n",
    "    def bind(self,fnc):\n",
    "        try:\n",
    "            return Just(fnc(self.end))\n",
    "        except:\n",
    "            return Nothing()\n",
    "        \n",
    "    def __repr__(self):\n",
    "        \n",
    "        return str(self.end)\n",
    "\n",
    "class Nothing:\n",
    "    \n",
    "    def bind(self,fnc):\n",
    "        \n",
    "        return Nothing()\n",
    "    \n",
    "    def __repr__(self):\n",
    "        \n",
    "        return 'Nothing'"
   ]
  },
  {
   "cell_type": "markdown",
   "metadata": {},
   "source": [
    "#### 2- Defina a função prod_lista que recebe como argumento uma lista de inteiros e devolve o produto dos seus elementos."
   ]
  },
  {
   "cell_type": "code",
   "execution_count": 7,
   "metadata": {
    "scrolled": true
   },
   "outputs": [],
   "source": [
    "def soma_list_maybe(x):\n",
    "    \n",
    "    return reduce(operator.mul, x, 1)\n",
    "\n",
    "class Just:\n",
    "    \n",
    "    def __init__(self,x):\n",
    "        self.x = x\n",
    "        \n",
    "    def bind(self,fnc):\n",
    "        try:\n",
    "            return Just(fnc(self.x))\n",
    "        except:\n",
    "            return Nothing()\n",
    "        \n",
    "    def __repr__(self):\n",
    "        \n",
    "        return str(self.x)\n",
    "\n",
    "class Nothing:\n",
    "    \n",
    "    def bind(self,fnc):\n",
    "        \n",
    "        return Nothing()\n",
    "    \n",
    "    def __repr__(self):\n",
    "        \n",
    "        return 'Nothing'\n",
    "    \n",
    "    \n"
   ]
  },
  {
   "cell_type": "markdown",
   "metadata": {},
   "source": [
    "#### 3- Defina a função contem_parQ que recebe como argumento uma lista de números inteiros w e devolve True se w contém um número par e False em caso contrário."
   ]
  },
  {
   "cell_type": "code",
   "execution_count": 8,
   "metadata": {},
   "outputs": [],
   "source": [
    "def contem_parQ_maybe(lista):\n",
    "    return True if (len(lista) % 2 == 0) else False\n",
    "\n",
    "class Just:\n",
    "    \n",
    "    def __init__(self,lista):\n",
    "        self.lista = lista\n",
    "        \n",
    "    def bind(self,fnc):\n",
    "        try:\n",
    "            return Just(fnc(self.lista))\n",
    "        except:\n",
    "            return Nothing()\n",
    "        \n",
    "    def __repr__(self):\n",
    "        \n",
    "        return str(self.lista)\n",
    "\n",
    "class Nothing:\n",
    "    \n",
    "    def bind(self,fnc):\n",
    "        \n",
    "        return Nothing()\n",
    "    \n",
    "    def __repr__(self):\n",
    "        \n",
    "        return 'Nothing'"
   ]
  },
  {
   "cell_type": "markdown",
   "metadata": {},
   "source": [
    "#### 4- Defina a função todos_imparesQ que recebe como argumento uma lista de números inteiros w e devolve True se w contém apenas números ímpares e False em caso contrário."
   ]
  },
  {
   "cell_type": "code",
   "execution_count": 9,
   "metadata": {},
   "outputs": [],
   "source": [
    "def todos_imparesQ_maybe(lista):\n",
    "    return True if len([x for x in lista if x % 2 != 0])==len(lista) else False\n",
    "\n",
    "class Just:\n",
    "    \n",
    "    def __init__(self,lista):\n",
    "        self.lista = lista\n",
    "        \n",
    "    def bind(self,fnc):\n",
    "        try:\n",
    "            return Just(fnc(self.lista))\n",
    "        except:\n",
    "            return Nothing()\n",
    "        \n",
    "    def __repr__(self):\n",
    "        \n",
    "        return str(self.lista)\n",
    "\n",
    "class Nothing:\n",
    "    \n",
    "    def bind(self,fnc):\n",
    "        \n",
    "        return Nothing()\n",
    "    \n",
    "    def __repr__(self):\n",
    "        \n",
    "        return 'Nothing'"
   ]
  },
  {
   "cell_type": "markdown",
   "metadata": {},
   "source": [
    "#### 5- Defina a função inverteLista que recebe como argumento uma lista  w e devolve a mesma lista mas invertida."
   ]
  },
  {
   "cell_type": "code",
   "execution_count": 10,
   "metadata": {},
   "outputs": [],
   "source": [
    "def inverteLista_maybe(w):\n",
    "    w = w[::-1]\n",
    "    return w\n",
    "\n",
    "class Just:\n",
    "    \n",
    "    def __init__(self,w):\n",
    "        self.w = w\n",
    "        \n",
    "    def bind(self,fnc):\n",
    "        try:\n",
    "            return Just(fnc(self.w))\n",
    "        except:\n",
    "            return Nothing()\n",
    "        \n",
    "    def __repr__(self):\n",
    "        \n",
    "        return str(self.w)\n",
    "\n",
    "class Nothing:\n",
    "    \n",
    "    def bind(self,fnc):\n",
    "        \n",
    "        return Nothing()\n",
    "    \n",
    "    def __repr__(self):\n",
    "        \n",
    "        return 'Nothing'"
   ]
  },
  {
   "cell_type": "markdown",
   "metadata": {},
   "source": [
    "# Testes em Maybe Monad"
   ]
  },
  {
   "cell_type": "code",
   "execution_count": 11,
   "metadata": {},
   "outputs": [
    {
     "name": "stdout",
     "output_type": "stream",
     "text": [
      "1º Exercício 28.0\n",
      "2º Exercício Nothing\n",
      "3º Exercício False\n",
      "4º Exercício True\n",
      "5º Exercício [3, 2, 1]\n"
     ]
    }
   ],
   "source": [
    "#1º exercício\n",
    "print('1º Exercício' , Just(7).bind(soma_nat_maybe))\n",
    "#2º exercício\n",
    "print('2º Exercício' , Just([1,2,3,4,5]).bind(soma_list_maybe))\n",
    "#3º exercício\n",
    "print('3º Exercício' , Just([4,3,2,1,2,3,4]).bind(contem_parQ_maybe))\n",
    "#4º exercício\n",
    "print('4º Exercício' , Just([1,3,5,7]).bind(todos_imparesQ_maybe))\n",
    "#5º exercício\n",
    "print(\"5º Exercício\" , Just([1,2,3]).bind(inverteLista_maybe))"
   ]
  },
  {
   "cell_type": "code",
   "execution_count": null,
   "metadata": {
    "collapsed": true
   },
   "outputs": [],
   "source": []
  }
 ],
 "metadata": {
  "kernelspec": {
   "display_name": "Python 3",
   "language": "python",
   "name": "python3"
  },
  "language_info": {
   "codemirror_mode": {
    "name": "ipython",
    "version": 3
   },
   "file_extension": ".py",
   "mimetype": "text/x-python",
   "name": "python",
   "nbconvert_exporter": "python",
   "pygments_lexer": "ipython3",
   "version": "3.6.4"
  }
 },
 "nbformat": 4,
 "nbformat_minor": 2
}
